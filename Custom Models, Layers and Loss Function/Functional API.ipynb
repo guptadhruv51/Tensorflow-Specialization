{
 "cells": [
  {
   "cell_type": "code",
   "execution_count": 3,
   "metadata": {},
   "outputs": [],
   "source": [
    "import tensorflow as tf\n",
    "import pandas as pd\n",
    "import numpy as np\n",
    "import matplotlib.pyplot as plt\n",
    "from tensorflow.keras.models import Model\n",
    "from tensorflow.keras.layers import Input, Dense\n",
    "from sklearn.model_selection import train_test_split\n",
    "from tensorflow.python.keras.utils.vis_utils import plot_model\n",
    "import pydot\n",
    "import graphviz\n",
    "import pydot_ng as pydot"
   ]
  },
  {
   "cell_type": "code",
   "execution_count": 4,
   "metadata": {},
   "outputs": [],
   "source": [
    "def format_output(data):\n",
    "    y1=data.pop('Y1')\n",
    "    y1=np.asarray(y1)\n",
    "    y2=data.pop('Y2')\n",
    "    y2=np.asarray(y2)\n",
    "    return y1,y2\n",
    "\n",
    "def norm(x):\n",
    "    return (x-train_stat['mean'])/train_stat['std']\n",
    "\n",
    "def plot_diff(y_true,y_pred,title=''):\n",
    "    plt.scatter(y_true,y_pred)\n",
    "    plt.title(title)\n",
    "    plt.xlabel('True Values')\n",
    "    plt.ylabel('Predicted Values')\n",
    "    plt.axis('equal')\n",
    "    plt.axis('square')\n",
    "    plt.xlim(plt.xlim())\n",
    "    plt.ylim(plt.ylim())\n",
    "    plt.plot([-100,100],[-100,100])\n",
    "    plt.show()\n",
    "    \n",
    "def plot_metrics(metric_name,title,ylim=5):\n",
    "    plt.title(title)\n",
    "    plt.ylim(0,ylim)\n",
    "    plt.plot(history.history[metric_name],label=metric_name,color='blue')\n",
    "    plt.plot(history.history['val_'+metric_name],label='val'+metric_name,color='green')\n",
    "    plt.legend()\n",
    "    plt.show()"
   ]
  },
  {
   "cell_type": "code",
   "execution_count": 5,
   "metadata": {},
   "outputs": [
    {
     "data": {
      "text/html": [
       "<div>\n",
       "<style scoped>\n",
       "    .dataframe tbody tr th:only-of-type {\n",
       "        vertical-align: middle;\n",
       "    }\n",
       "\n",
       "    .dataframe tbody tr th {\n",
       "        vertical-align: top;\n",
       "    }\n",
       "\n",
       "    .dataframe thead th {\n",
       "        text-align: right;\n",
       "    }\n",
       "</style>\n",
       "<table border=\"1\" class=\"dataframe\">\n",
       "  <thead>\n",
       "    <tr style=\"text-align: right;\">\n",
       "      <th></th>\n",
       "      <th>X1</th>\n",
       "      <th>X2</th>\n",
       "      <th>X3</th>\n",
       "      <th>X4</th>\n",
       "      <th>X5</th>\n",
       "      <th>X6</th>\n",
       "      <th>X7</th>\n",
       "      <th>X8</th>\n",
       "      <th>Y1</th>\n",
       "      <th>Y2</th>\n",
       "    </tr>\n",
       "  </thead>\n",
       "  <tbody>\n",
       "    <tr>\n",
       "      <th>0</th>\n",
       "      <td>0.98</td>\n",
       "      <td>514.5</td>\n",
       "      <td>294.0</td>\n",
       "      <td>110.25</td>\n",
       "      <td>7.0</td>\n",
       "      <td>2</td>\n",
       "      <td>0.0</td>\n",
       "      <td>0</td>\n",
       "      <td>15.55</td>\n",
       "      <td>21.33</td>\n",
       "    </tr>\n",
       "    <tr>\n",
       "      <th>1</th>\n",
       "      <td>0.98</td>\n",
       "      <td>514.5</td>\n",
       "      <td>294.0</td>\n",
       "      <td>110.25</td>\n",
       "      <td>7.0</td>\n",
       "      <td>3</td>\n",
       "      <td>0.0</td>\n",
       "      <td>0</td>\n",
       "      <td>15.55</td>\n",
       "      <td>21.33</td>\n",
       "    </tr>\n",
       "    <tr>\n",
       "      <th>2</th>\n",
       "      <td>0.98</td>\n",
       "      <td>514.5</td>\n",
       "      <td>294.0</td>\n",
       "      <td>110.25</td>\n",
       "      <td>7.0</td>\n",
       "      <td>4</td>\n",
       "      <td>0.0</td>\n",
       "      <td>0</td>\n",
       "      <td>15.55</td>\n",
       "      <td>21.33</td>\n",
       "    </tr>\n",
       "    <tr>\n",
       "      <th>3</th>\n",
       "      <td>0.98</td>\n",
       "      <td>514.5</td>\n",
       "      <td>294.0</td>\n",
       "      <td>110.25</td>\n",
       "      <td>7.0</td>\n",
       "      <td>5</td>\n",
       "      <td>0.0</td>\n",
       "      <td>0</td>\n",
       "      <td>15.55</td>\n",
       "      <td>21.33</td>\n",
       "    </tr>\n",
       "    <tr>\n",
       "      <th>4</th>\n",
       "      <td>0.90</td>\n",
       "      <td>563.5</td>\n",
       "      <td>318.5</td>\n",
       "      <td>122.50</td>\n",
       "      <td>7.0</td>\n",
       "      <td>2</td>\n",
       "      <td>0.0</td>\n",
       "      <td>0</td>\n",
       "      <td>20.84</td>\n",
       "      <td>28.28</td>\n",
       "    </tr>\n",
       "  </tbody>\n",
       "</table>\n",
       "</div>"
      ],
      "text/plain": [
       "     X1     X2     X3      X4   X5  X6   X7  X8     Y1     Y2\n",
       "0  0.98  514.5  294.0  110.25  7.0   2  0.0   0  15.55  21.33\n",
       "1  0.98  514.5  294.0  110.25  7.0   3  0.0   0  15.55  21.33\n",
       "2  0.98  514.5  294.0  110.25  7.0   4  0.0   0  15.55  21.33\n",
       "3  0.98  514.5  294.0  110.25  7.0   5  0.0   0  15.55  21.33\n",
       "4  0.90  563.5  318.5  122.50  7.0   2  0.0   0  20.84  28.28"
      ]
     },
     "execution_count": 5,
     "metadata": {},
     "output_type": "execute_result"
    }
   ],
   "source": [
    "url='https://archive.ics.uci.edu/ml/machine-learning-databases/00242/ENB2012_data.xlsx'\n",
    "dataset=pd.read_excel(url)\n",
    "dataset.head()"
   ]
  },
  {
   "cell_type": "code",
   "execution_count": 6,
   "metadata": {},
   "outputs": [],
   "source": [
    "train,test=train_test_split(dataset,test_size=0.2)\n",
    "train_stat=train.describe()\n",
    "train_stat.pop('Y1')\n",
    "train_stat.pop('Y2')\n",
    "train_stat=train_stat.transpose()"
   ]
  },
  {
   "cell_type": "code",
   "execution_count": 7,
   "metadata": {},
   "outputs": [],
   "source": [
    "train_Y=format_output(train)\n",
    "test_Y=format_output(test)"
   ]
  },
  {
   "cell_type": "code",
   "execution_count": 8,
   "metadata": {},
   "outputs": [],
   "source": [
    "norm_train=norm(train)\n",
    "norm_test=norm(test)"
   ]
  },
  {
   "cell_type": "code",
   "execution_count": 9,
   "metadata": {},
   "outputs": [
    {
     "name": "stderr",
     "output_type": "stream",
     "text": [
      "WARNING: Logging before flag parsing goes to stderr.\n",
      "W0528 23:48:00.662565 4580158976 deprecation.py:506] From /Users/guptadhruv51/anaconda3/lib/python3.6/site-packages/tensorflow/python/ops/init_ops.py:1251: calling VarianceScaling.__init__ (from tensorflow.python.ops.init_ops) with dtype is deprecated and will be removed in a future version.\n",
      "Instructions for updating:\n",
      "Call initializer instance with the dtype argument instead of passing it to the constructor\n"
     ]
    },
    {
     "name": "stdout",
     "output_type": "stream",
     "text": [
      "Model: \"model\"\n",
      "__________________________________________________________________________________________________\n",
      "Layer (type)                    Output Shape         Param #     Connected to                     \n",
      "==================================================================================================\n",
      "input_1 (InputLayer)            [(None, 8)]          0                                            \n",
      "__________________________________________________________________________________________________\n",
      "dense (Dense)                   (None, 128)          1152        input_1[0][0]                    \n",
      "__________________________________________________________________________________________________\n",
      "dense_1 (Dense)                 (None, 128)          16512       dense[0][0]                      \n",
      "__________________________________________________________________________________________________\n",
      "dense_2 (Dense)                 (None, 128)          16512       dense_1[0][0]                    \n",
      "__________________________________________________________________________________________________\n",
      "y1_output (Dense)               (None, 1)            129         dense_1[0][0]                    \n",
      "__________________________________________________________________________________________________\n",
      "y2_output (Dense)               (None, 1)            129         dense_2[0][0]                    \n",
      "==================================================================================================\n",
      "Total params: 34,434\n",
      "Trainable params: 34,434\n",
      "Non-trainable params: 0\n",
      "__________________________________________________________________________________________________\n"
     ]
    }
   ],
   "source": [
    "input_layer=Input(shape=(len(train.columns),))\n",
    "Dense_1=Dense(128,activation='relu')(input_layer)\n",
    "Dense_2=Dense(128,activation='relu')(Dense_1)\n",
    "y1_output=Dense(1,name='y1_output')(Dense_2)\n",
    "Dense_3=Dense(128,activation='relu')(Dense_2)\n",
    "y2_output=Dense(1,name='y2_output')(Dense_3)\n",
    "model=Model(inputs=input_layer,outputs=[y1_output,y2_output])\n",
    "model.summary()"
   ]
  },
  {
   "cell_type": "code",
   "execution_count": 10,
   "metadata": {},
   "outputs": [],
   "source": [
    "optimizer=tf.keras.optimizers.SGD(lr=0.001)\n",
    "model.compile(optimizer=optimizer,\n",
    "             loss={'y1_output':'mse','y2_output':'mse'},\n",
    "             metrics={'y1_output':tf.keras.metrics.RootMeanSquaredError(),\n",
    "                      'y2_output':tf.keras.metrics.RootMeanSquaredError()})"
   ]
  },
  {
   "cell_type": "code",
   "execution_count": 11,
   "metadata": {},
   "outputs": [],
   "source": [
    "from tensorflow.keras.layers import Layer\n",
    "model._layers=[\n",
    "    layer for layer in model._layers if isinstance(layer,Layer)\n",
    "]"
   ]
  },
  {
   "cell_type": "code",
   "execution_count": 17,
   "metadata": {},
   "outputs": [
    {
     "name": "stdout",
     "output_type": "stream",
     "text": [
      "Failed to import pydot. You must install pydot and graphviz for `pydotprint` to work.\n"
     ]
    }
   ],
   "source": [
    "plot_model(model,show_shapes=True,show_layer_names=True,to_file='model.png')"
   ]
  },
  {
   "cell_type": "code",
   "execution_count": 13,
   "metadata": {},
   "outputs": [
    {
     "name": "stdout",
     "output_type": "stream",
     "text": [
      "Train on 614 samples, validate on 154 samples\n",
      "Epoch 1/20\n",
      "614/614 [==============================] - 1s 1ms/sample - loss: 227.2962 - y1_output_loss: 108.0130 - y2_output_loss: 117.4036 - y1_output_root_mean_squared_error: 10.4376 - y2_output_root_mean_squared_error: 10.8790 - val_loss: 34.3211 - val_y1_output_loss: 15.9240 - val_y2_output_loss: 20.8052 - val_y1_output_root_mean_squared_error: 3.8237 - val_y2_output_root_mean_squared_error: 4.4385\n",
      "Epoch 2/20\n",
      "614/614 [==============================] - 0s 320us/sample - loss: 34.5217 - y1_output_loss: 13.4874 - y2_output_loss: 21.4106 - y1_output_root_mean_squared_error: 3.6626 - y2_output_root_mean_squared_error: 4.5942 - val_loss: 60.1823 - val_y1_output_loss: 17.9974 - val_y2_output_loss: 44.1346 - val_y1_output_root_mean_squared_error: 4.1966 - val_y2_output_root_mean_squared_error: 6.5246\n",
      "Epoch 3/20\n",
      "614/614 [==============================] - 0s 233us/sample - loss: 30.5933 - y1_output_loss: 10.8294 - y2_output_loss: 19.6063 - y1_output_root_mean_squared_error: 3.3027 - y2_output_root_mean_squared_error: 4.4368 - val_loss: 30.0381 - val_y1_output_loss: 12.5192 - val_y2_output_loss: 16.7047 - val_y1_output_root_mean_squared_error: 3.5666 - val_y2_output_root_mean_squared_error: 4.1614\n",
      "Epoch 4/20\n",
      "614/614 [==============================] - 0s 303us/sample - loss: 27.7807 - y1_output_loss: 9.9170 - y2_output_loss: 17.6724 - y1_output_root_mean_squared_error: 3.1570 - y2_output_root_mean_squared_error: 4.2207 - val_loss: 21.2698 - val_y1_output_loss: 9.6271 - val_y2_output_loss: 11.0614 - val_y1_output_root_mean_squared_error: 3.1336 - val_y2_output_root_mean_squared_error: 3.3838\n",
      "Epoch 5/20\n",
      "614/614 [==============================] - 0s 349us/sample - loss: 23.2815 - y1_output_loss: 8.9151 - y2_output_loss: 14.3342 - y1_output_root_mean_squared_error: 2.9947 - y2_output_root_mean_squared_error: 3.7833 - val_loss: 22.3447 - val_y1_output_loss: 9.9403 - val_y2_output_loss: 11.7980 - val_y1_output_root_mean_squared_error: 3.2075 - val_y2_output_root_mean_squared_error: 3.4723\n",
      "Epoch 6/20\n",
      "614/614 [==============================] - 0s 227us/sample - loss: 27.1325 - y1_output_loss: 10.1326 - y2_output_loss: 16.8864 - y1_output_root_mean_squared_error: 3.1796 - y2_output_root_mean_squared_error: 4.1258 - val_loss: 22.9086 - val_y1_output_loss: 9.4301 - val_y2_output_loss: 13.6057 - val_y1_output_root_mean_squared_error: 3.0400 - val_y2_output_root_mean_squared_error: 3.6969\n",
      "Epoch 7/20\n",
      "614/614 [==============================] - 0s 246us/sample - loss: 23.9115 - y1_output_loss: 8.7073 - y2_output_loss: 15.6272 - y1_output_root_mean_squared_error: 2.9267 - y2_output_root_mean_squared_error: 3.9174 - val_loss: 31.5564 - val_y1_output_loss: 9.6063 - val_y2_output_loss: 21.2345 - val_y1_output_root_mean_squared_error: 3.1294 - val_y2_output_root_mean_squared_error: 4.6651\n",
      "Epoch 8/20\n",
      "614/614 [==============================] - 0s 396us/sample - loss: 20.6711 - y1_output_loss: 7.8291 - y2_output_loss: 12.7102 - y1_output_root_mean_squared_error: 2.8091 - y2_output_root_mean_squared_error: 3.5749 - val_loss: 20.4860 - val_y1_output_loss: 8.9464 - val_y2_output_loss: 11.1510 - val_y1_output_root_mean_squared_error: 3.0215 - val_y2_output_root_mean_squared_error: 3.3700\n",
      "Epoch 9/20\n",
      "614/614 [==============================] - 0s 263us/sample - loss: 20.5918 - y1_output_loss: 7.9753 - y2_output_loss: 12.4278 - y1_output_root_mean_squared_error: 2.8371 - y2_output_root_mean_squared_error: 3.5415 - val_loss: 22.6619 - val_y1_output_loss: 10.1184 - val_y2_output_loss: 13.5748 - val_y1_output_root_mean_squared_error: 3.1677 - val_y2_output_root_mean_squared_error: 3.5535\n",
      "Epoch 10/20\n",
      "614/614 [==============================] - 0s 268us/sample - loss: 21.8801 - y1_output_loss: 7.9457 - y2_output_loss: 13.8072 - y1_output_root_mean_squared_error: 2.8267 - y2_output_root_mean_squared_error: 3.7269 - val_loss: 19.5033 - val_y1_output_loss: 8.8786 - val_y2_output_loss: 10.3645 - val_y1_output_root_mean_squared_error: 2.9855 - val_y2_output_root_mean_squared_error: 3.2543\n",
      "Epoch 11/20\n",
      "614/614 [==============================] - 0s 496us/sample - loss: 20.3176 - y1_output_loss: 7.8817 - y2_output_loss: 12.7146 - y1_output_root_mean_squared_error: 2.7949 - y2_output_root_mean_squared_error: 3.5364 - val_loss: 20.2593 - val_y1_output_loss: 9.0770 - val_y2_output_loss: 10.7011 - val_y1_output_root_mean_squared_error: 3.0659 - val_y2_output_root_mean_squared_error: 3.2954\n",
      "Epoch 12/20\n",
      "614/614 [==============================] - 0s 537us/sample - loss: 20.2796 - y1_output_loss: 7.6820 - y2_output_loss: 12.6697 - y1_output_root_mean_squared_error: 2.7762 - y2_output_root_mean_squared_error: 3.5458 - val_loss: 33.4111 - val_y1_output_loss: 9.8109 - val_y2_output_loss: 23.0536 - val_y1_output_root_mean_squared_error: 3.1332 - val_y2_output_root_mean_squared_error: 4.8574\n",
      "Epoch 13/20\n",
      "614/614 [==============================] - 0s 553us/sample - loss: 23.6626 - y1_output_loss: 8.3665 - y2_output_loss: 15.1069 - y1_output_root_mean_squared_error: 2.9031 - y2_output_root_mean_squared_error: 3.9032 - val_loss: 18.6871 - val_y1_output_loss: 8.1024 - val_y2_output_loss: 9.9769 - val_y1_output_root_mean_squared_error: 2.8889 - val_y2_output_root_mean_squared_error: 3.2158\n",
      "Epoch 14/20\n",
      "614/614 [==============================] - 0s 365us/sample - loss: 17.2524 - y1_output_loss: 6.7429 - y2_output_loss: 10.3888 - y1_output_root_mean_squared_error: 2.6049 - y2_output_root_mean_squared_error: 3.2353 - val_loss: 16.0804 - val_y1_output_loss: 7.1231 - val_y2_output_loss: 8.5155 - val_y1_output_root_mean_squared_error: 2.7113 - val_y2_output_root_mean_squared_error: 2.9545\n",
      "Epoch 15/20\n",
      "614/614 [==============================] - 0s 313us/sample - loss: 18.9772 - y1_output_loss: 7.3345 - y2_output_loss: 11.6434 - y1_output_root_mean_squared_error: 2.7027 - y2_output_root_mean_squared_error: 3.4165 - val_loss: 21.4537 - val_y1_output_loss: 8.5463 - val_y2_output_loss: 13.1695 - val_y1_output_root_mean_squared_error: 2.8929 - val_y2_output_root_mean_squared_error: 3.6173\n",
      "Epoch 16/20\n",
      "614/614 [==============================] - 0s 297us/sample - loss: 18.9416 - y1_output_loss: 6.5036 - y2_output_loss: 12.5366 - y1_output_root_mean_squared_error: 2.5503 - y2_output_root_mean_squared_error: 3.5267 - val_loss: 17.6246 - val_y1_output_loss: 8.1522 - val_y2_output_loss: 10.2047 - val_y1_output_root_mean_squared_error: 2.8570 - val_y2_output_root_mean_squared_error: 3.0761\n",
      "Epoch 17/20\n",
      "614/614 [==============================] - 0s 315us/sample - loss: 17.9128 - y1_output_loss: 6.5385 - y2_output_loss: 11.6552 - y1_output_root_mean_squared_error: 2.5388 - y2_output_root_mean_squared_error: 3.3863 - val_loss: 15.7023 - val_y1_output_loss: 6.9649 - val_y2_output_loss: 8.9181 - val_y1_output_root_mean_squared_error: 2.6077 - val_y2_output_root_mean_squared_error: 2.9836\n",
      "Epoch 18/20\n",
      "614/614 [==============================] - 0s 272us/sample - loss: 15.3994 - y1_output_loss: 5.8789 - y2_output_loss: 9.4286 - y1_output_root_mean_squared_error: 2.4314 - y2_output_root_mean_squared_error: 3.0802 - val_loss: 23.0570 - val_y1_output_loss: 8.5534 - val_y2_output_loss: 13.9890 - val_y1_output_root_mean_squared_error: 2.9684 - val_y2_output_root_mean_squared_error: 3.7744\n",
      "Epoch 19/20\n",
      "614/614 [==============================] - 0s 588us/sample - loss: 18.5829 - y1_output_loss: 6.9671 - y2_output_loss: 12.0272 - y1_output_root_mean_squared_error: 2.6337 - y2_output_root_mean_squared_error: 3.4127 - val_loss: 30.8208 - val_y1_output_loss: 9.1416 - val_y2_output_loss: 24.1405 - val_y1_output_root_mean_squared_error: 2.8469 - val_y2_output_root_mean_squared_error: 4.7661\n",
      "Epoch 20/20\n",
      "614/614 [==============================] - 1s 929us/sample - loss: 16.0150 - y1_output_loss: 5.5947 - y2_output_loss: 10.3154 - y1_output_root_mean_squared_error: 2.3744 - y2_output_root_mean_squared_error: 3.2214 - val_loss: 14.8506 - val_y1_output_loss: 6.2081 - val_y2_output_loss: 8.4963 - val_y1_output_root_mean_squared_error: 2.5316 - val_y2_output_root_mean_squared_error: 2.9054\n"
     ]
    },
    {
     "name": "stdout",
     "output_type": "stream",
     "text": [
      " 32/154 [=====>........................] - ETA: 0s - loss: 13.9106 - y1_output_loss: 6.7676 - y2_output_loss: 7.1431 - y1_output_root_mean_squared_error: 2.6015 - y2_output_root_mean_squared_error: 2.6727\b\b\b\b\b\b\b\b\b\b\b\b\b\b\b\b\b\b\b\b\b\b\b\b\b\b\b\b\b\b\b\b\b\b\b\b\b\b\b\b\b\b\b\b\b\b\b\b\b\b\b\b\b\b\b\b\b\b\b\b\b\b\b\b\b\b\b\b\b\b\b\b\b\b\b\b\b\b\b\b\b\b\b\b\b\b\b\b\b\b\b\b\b\b\b\b\b\b\b\b\b\b\b\b\b\b\b\b\b\b\b\b\b\b\b\b\b\b\b\b\b\b\b\b\b\b\b\b\b\b\b\b\b\b\b\b\b\b\b\b\b\b\b\b\b\b\b\b\b\b\b\b\b\b\b\b\b\b\b\b\b\b\b\b\b\b\b\b\b\b\b\b\b\b\b\b\b\b\b\b\b\b\b\b\b\b\b\b\b\b\b\b\b\b\b\b\b\b\b\b\b\b\b\b\r",
      "154/154 [==============================] - 0s 80us/sample - loss: 14.8506 - y1_output_loss: 6.4307 - y2_output_loss: 8.4932 - y1_output_root_mean_squared_error: 2.5316 - y2_output_root_mean_squared_error: 2.9054\n"
     ]
    }
   ],
   "source": [
    "history=model.fit(norm_train,train_Y,epochs=20,batch_size=10,\n",
    "                  validation_data=(norm_test,test_Y))\n",
    "loss,y1_loss,y2_loss,y1_rmse,y2_rmse=model.evaluate(norm_test,test_Y)"
   ]
  },
  {
   "cell_type": "code",
   "execution_count": 14,
   "metadata": {},
   "outputs": [],
   "source": [
    "Y_pred=model.predict(norm_test)"
   ]
  },
  {
   "cell_type": "code",
   "execution_count": 15,
   "metadata": {},
   "outputs": [
    {
     "data": {
      "image/png": "[encoded data removed]",
      "text/plain": [
       "<Figure size 432x288 with 1 Axes>"
      ]
     },
     "metadata": {
      "needs_background": "light"
     },
     "output_type": "display_data"
    },
    {
     "data": {
      "image/png": "[encoded data removed]",
      "text/plain": [
       "<Figure size 432x288 with 1 Axes>"
      ]
     },
     "metadata": {
      "needs_background": "light"
     },
     "output_type": "display_data"
    }
   ],
   "source": [
    "plot_diff(test_Y[0],Y_pred[0],title='Y1')\n",
    "plot_diff(test_Y[1],Y_pred[1],title='Y2')"
   ]
  },
  {
   "cell_type": "code",
   "execution_count": 16,
   "metadata": {},
   "outputs": [
    {
     "data": {
      "image/png": "[encoded data removed]",
      "text/plain": [
       "<Figure size 432x288 with 1 Axes>"
      ]
     },
     "metadata": {
      "needs_background": "light"
     },
     "output_type": "display_data"
    },
    {
     "data": {
      "image/png": "[encoded data removed]",
      "text/plain": [
       "<Figure size 432x288 with 1 Axes>"
      ]
     },
     "metadata": {
      "needs_background": "light"
     },
     "output_type": "display_data"
    }
   ],
   "source": [
    "plot_metrics('y1_output_root_mean_squared_error',title='Y1 RMS',ylim=6)\n",
    "plot_metrics('y2_output_root_mean_squared_error',title='Y2 RMS',ylim=6)"
   ]
  },
  {
   "cell_type": "code",
   "execution_count": null,
   "metadata": {},
   "outputs": [],
   "source": []
  },
  {
   "cell_type": "code",
   "execution_count": null,
   "metadata": {},
   "outputs": [],
   "source": []
  }
 ],
 "metadata": {
  "kernelspec": {
   "display_name": "Python 3",
   "language": "python",
   "name": "python3"
  },
  "language_info": {
   "codemirror_mode": {
    "name": "ipython",
    "version": 3
   },
   "file_extension": ".py",
   "mimetype": "text/x-python",
   "name": "python",
   "nbconvert_exporter": "python",
   "pygments_lexer": "ipython3",
   "version": "3.6.9"
  }
 },
 "nbformat": 4,
 "nbformat_minor": 4
}

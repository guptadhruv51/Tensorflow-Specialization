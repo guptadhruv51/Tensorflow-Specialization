{
 "cells": [
  {
   "cell_type": "markdown",
   "metadata": {},
   "source": [
    "## Huber Loss"
   ]
  },
  {
   "cell_type": "code",
   "execution_count": 5,
   "metadata": {},
   "outputs": [],
   "source": [
    "import tensorflow as tf\n",
    "import keras\n",
    "import numpy as np"
   ]
  },
  {
   "cell_type": "code",
   "execution_count": 31,
   "metadata": {},
   "outputs": [],
   "source": [
    "def my_loss_function(y_true,y_pred):\n",
    "    threshold=1\n",
    "    error=y_true-y_pred\n",
    "    is_small_error=tf.abs(error)<=threshold\n",
    "    small_error=tf.square(error)/2\n",
    "    big_error_loss=threshold*(tf.abs(error)-(0.5*threshold))\n",
    "    return tf.where(is_small_error,small_error,big_error_loss)"
   ]
  },
  {
   "cell_type": "code",
   "execution_count": 32,
   "metadata": {},
   "outputs": [],
   "source": [
    "from tensorflow.keras.losses import Loss\n",
    "class MyHuberLoss(Loss):\n",
    "    threshold=1\n",
    "    def __init__(self,threshold):\n",
    "        super.__init__()\n",
    "        self.threshold=threshold\n",
    "    def call(self,y_true,y_pred):\n",
    "        error=y_true-y_pred\n",
    "        is_small_error=tf.abs(error)<=self.threshold\n",
    "        small_error_loss=tf.square(error)/2\n",
    "        big_error_loss=self.threshold*(tf.abs(error)-(0.5*self.threshold))\n",
    "        return tf.where(is_small_error,small_error,big_error_loss)"
   ]
  },
  {
   "cell_type": "code",
   "execution_count": 33,
   "metadata": {},
   "outputs": [],
   "source": [
    "X=np.arange(0,10)\n",
    "Y=np.arange(10,0,-1)"
   ]
  },
  {
   "cell_type": "code",
   "execution_count": 34,
   "metadata": {},
   "outputs": [],
   "source": [
    "from keras.layers import Dense\n",
    "from keras.models import Sequential"
   ]
  },
  {
   "cell_type": "code",
   "execution_count": 35,
   "metadata": {},
   "outputs": [
    {
     "name": "stderr",
     "output_type": "stream",
     "text": [
      "W0531 23:46:00.331841 4585225728 deprecation.py:323] From <ipython-input-31-875542b0a02a>:7: add_dispatch_support.<locals>.wrapper (from tensorflow.python.ops.array_ops) is deprecated and will be removed in a future version.\n",
      "Instructions for updating:\n",
      "Use tf.where in 2.0, which has the same broadcast rule as np.where\n"
     ]
    }
   ],
   "source": [
    "model=Sequential()\n",
    "model.add(Dense(1,activation='relu',input_shape=[1]))\n",
    "model.compile(loss=my_loss_function,optimizer='sgd')"
   ]
  },
  {
   "cell_type": "code",
   "execution_count": 37,
   "metadata": {},
   "outputs": [
    {
     "name": "stderr",
     "output_type": "stream",
     "text": [
      "W0531 23:46:28.234438 4585225728 deprecation_wrapper.py:119] From /Users/guptadhruv51/anaconda3/lib/python3.6/site-packages/keras/backend/tensorflow_backend.py:986: The name tf.assign_add is deprecated. Please use tf.compat.v1.assign_add instead.\n",
      "\n",
      "W0531 23:46:28.249879 4585225728 deprecation_wrapper.py:119] From /Users/guptadhruv51/anaconda3/lib/python3.6/site-packages/keras/backend/tensorflow_backend.py:973: The name tf.assign is deprecated. Please use tf.compat.v1.assign instead.\n",
      "\n"
     ]
    },
    {
     "name": "stdout",
     "output_type": "stream",
     "text": [
      "Epoch 1/10\n",
      "10/10 [==============================] - 1s 67ms/step - loss: 5.0000\n",
      "Epoch 2/10\n",
      "10/10 [==============================] - 0s 604us/step - loss: 5.0000\n",
      "Epoch 3/10\n",
      "10/10 [==============================] - 0s 240us/step - loss: 5.0000\n",
      "Epoch 4/10\n",
      "10/10 [==============================] - 0s 564us/step - loss: 5.0000\n",
      "Epoch 5/10\n",
      "10/10 [==============================] - 0s 707us/step - loss: 5.0000\n",
      "Epoch 6/10\n",
      "10/10 [==============================] - 0s 252us/step - loss: 5.0000\n",
      "Epoch 7/10\n",
      "10/10 [==============================] - 0s 699us/step - loss: 5.0000\n",
      "Epoch 8/10\n",
      "10/10 [==============================] - 0s 557us/step - loss: 5.0000\n",
      "Epoch 9/10\n",
      "10/10 [==============================] - 0s 514us/step - loss: 5.0000\n",
      "Epoch 10/10\n",
      "10/10 [==============================] - 0s 636us/step - loss: 5.0000\n"
     ]
    },
    {
     "data": {
      "text/plain": [
       "<keras.callbacks.History at 0x7ff96bde3908>"
      ]
     },
     "execution_count": 37,
     "metadata": {},
     "output_type": "execute_result"
    }
   ],
   "source": [
    "model.fit(X,Y,epochs=10)"
   ]
  },
  {
   "cell_type": "code",
   "execution_count": null,
   "metadata": {},
   "outputs": [],
   "source": []
  }
 ],
 "metadata": {
  "kernelspec": {
   "display_name": "Python 3",
   "language": "python",
   "name": "python3"
  },
  "language_info": {
   "codemirror_mode": {
    "name": "ipython",
    "version": 3
   },
   "file_extension": ".py",
   "mimetype": "text/x-python",
   "name": "python",
   "nbconvert_exporter": "python",
   "pygments_lexer": "ipython3",
   "version": "3.6.9"
  }
 },
 "nbformat": 4,
 "nbformat_minor": 4
}
